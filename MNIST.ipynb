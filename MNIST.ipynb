{
 "cells": [
  {
   "cell_type": "code",
   "execution_count": 1,
   "id": "218b72b5",
   "metadata": {},
   "outputs": [],
   "source": [
    "import numpy as np\n",
    "import tensorflow as tf\n",
    "import tensorflow_datasets as tfds"
   ]
  },
  {
   "cell_type": "markdown",
   "id": "ed9ddb9f",
   "metadata": {},
   "source": [
    "load dataset"
   ]
  },
  {
   "cell_type": "code",
   "execution_count": 2,
   "id": "061e1bc2",
   "metadata": {},
   "outputs": [
    {
     "data": {
      "text/plain": [
       "tfds.core.DatasetInfo(\n",
       "    name='mnist',\n",
       "    full_name='mnist/3.0.1',\n",
       "    description=\"\"\"\n",
       "    The MNIST database of handwritten digits.\n",
       "    \"\"\",\n",
       "    homepage='http://yann.lecun.com/exdb/mnist/',\n",
       "    data_path='C:\\\\Users\\\\Reza MSI\\\\tensorflow_datasets\\\\mnist\\\\3.0.1',\n",
       "    file_format=tfrecord,\n",
       "    download_size=11.06 MiB,\n",
       "    dataset_size=21.00 MiB,\n",
       "    features=FeaturesDict({\n",
       "        'image': Image(shape=(28, 28, 1), dtype=uint8),\n",
       "        'label': ClassLabel(shape=(), dtype=int64, num_classes=10),\n",
       "    }),\n",
       "    supervised_keys=('image', 'label'),\n",
       "    disable_shuffling=False,\n",
       "    splits={\n",
       "        'test': <SplitInfo num_examples=10000, num_shards=1>,\n",
       "        'train': <SplitInfo num_examples=60000, num_shards=1>,\n",
       "    },\n",
       "    citation=\"\"\"@article{lecun2010mnist,\n",
       "      title={MNIST handwritten digit database},\n",
       "      author={LeCun, Yann and Cortes, Corinna and Burges, CJ},\n",
       "      journal={ATT Labs [Online]. Available: http://yann.lecun.com/exdb/mnist},\n",
       "      volume={2},\n",
       "      year={2010}\n",
       "    }\"\"\",\n",
       ")"
      ]
     },
     "execution_count": 2,
     "metadata": {},
     "output_type": "execute_result"
    }
   ],
   "source": [
    "mnist_dataset, mnist_info = tfds.load(name='mnist', with_info=True, as_supervised=True)\n",
    "mnist_info"
   ]
  },
  {
   "cell_type": "code",
   "execution_count": 3,
   "id": "6f9dd1b9",
   "metadata": {},
   "outputs": [],
   "source": [
    "train , test = mnist_dataset['train'] , mnist_dataset['test']"
   ]
  },
  {
   "cell_type": "code",
   "execution_count": 4,
   "id": "79f4fd7b",
   "metadata": {},
   "outputs": [
    {
     "data": {
      "text/plain": [
       "6000.0"
      ]
     },
     "execution_count": 4,
     "metadata": {},
     "output_type": "execute_result"
    }
   ],
   "source": [
    "numberOfValidation = 0.1 * mnist_info.splits['train'].num_examples\n",
    "numberOfValidation"
   ]
  },
  {
   "cell_type": "code",
   "execution_count": 5,
   "id": "bb5cf5a0",
   "metadata": {},
   "outputs": [
    {
     "data": {
      "text/plain": [
       "<tf.Tensor: shape=(), dtype=int64, numpy=6000>"
      ]
     },
     "execution_count": 5,
     "metadata": {},
     "output_type": "execute_result"
    }
   ],
   "source": [
    "numberOfValidation = tf.cast(numberOfValidation , tf.int64)\n",
    "numberOfValidation"
   ]
  },
  {
   "cell_type": "code",
   "execution_count": 6,
   "id": "72bb74a2",
   "metadata": {},
   "outputs": [
    {
     "data": {
      "text/plain": [
       "10000"
      ]
     },
     "execution_count": 6,
     "metadata": {},
     "output_type": "execute_result"
    }
   ],
   "source": [
    "numberOfTest = mnist_info.splits['test'].num_examples\n",
    "numberOfTest"
   ]
  },
  {
   "cell_type": "code",
   "execution_count": 7,
   "id": "5a54225e",
   "metadata": {},
   "outputs": [
    {
     "data": {
      "text/plain": [
       "<tf.Tensor: shape=(), dtype=int64, numpy=10000>"
      ]
     },
     "execution_count": 7,
     "metadata": {},
     "output_type": "execute_result"
    }
   ],
   "source": [
    "numberOfTest = tf.cast(numberOfTest , tf.int64)\n",
    "numberOfTest"
   ]
  },
  {
   "cell_type": "code",
   "execution_count": 8,
   "id": "ef20ae2a",
   "metadata": {},
   "outputs": [],
   "source": [
    "def scale ( image , label ):\n",
    "    image = tf.cast(image , tf.float32)\n",
    "    image /= 255.0\n",
    "    return image , label"
   ]
  },
  {
   "cell_type": "code",
   "execution_count": 9,
   "id": "d1681fef",
   "metadata": {},
   "outputs": [],
   "source": [
    "trainAndValidationDataScaled = train.map(scale)\n",
    "testScaled = test.map(scale)"
   ]
  },
  {
   "cell_type": "code",
   "execution_count": 10,
   "id": "fe202683",
   "metadata": {},
   "outputs": [],
   "source": [
    "bufferSize = 10000\n",
    "shuffledTrainAndValidationData = trainAndValidationDataScaled.shuffle(bufferSize)"
   ]
  },
  {
   "cell_type": "code",
   "execution_count": 11,
   "id": "c9e5a486",
   "metadata": {},
   "outputs": [],
   "source": [
    "ValidationData = shuffledTrainAndValidationData.take(numberOfValidation)\n",
    "trainData = shuffledTrainAndValidationData.skip(numberOfValidation)"
   ]
  },
  {
   "cell_type": "code",
   "execution_count": 12,
   "id": "f4514e1b",
   "metadata": {},
   "outputs": [],
   "source": [
    "batchSize = 100"
   ]
  },
  {
   "cell_type": "code",
   "execution_count": 13,
   "id": "f5d5ad1a",
   "metadata": {},
   "outputs": [],
   "source": [
    "trainData = trainData.batch(batchSize)"
   ]
  },
  {
   "cell_type": "code",
   "execution_count": 14,
   "id": "db9366ee",
   "metadata": {},
   "outputs": [],
   "source": [
    "ValidationData = ValidationData.batch(numberOfValidation)"
   ]
  },
  {
   "cell_type": "code",
   "execution_count": 15,
   "id": "dbff6796",
   "metadata": {},
   "outputs": [],
   "source": [
    "testData = testScaled.batch(numberOfTest)"
   ]
  },
  {
   "cell_type": "code",
   "execution_count": 16,
   "id": "88b635a7",
   "metadata": {},
   "outputs": [],
   "source": [
    "#validation dataset should have the same shape and format as train dataset\n",
    "validation_inputs, validation_targets = next(iter(ValidationData))"
   ]
  },
  {
   "cell_type": "code",
   "execution_count": 17,
   "id": "6001ff73",
   "metadata": {},
   "outputs": [],
   "source": [
    "# 28px * 28px = 784\n",
    "inputSize = 784\n",
    "\n",
    "# 0 until 9\n",
    "outputSize = 10\n",
    "\n",
    "#number of atoms in hidden layers\n",
    "hiddenLayerSize = 50\n",
    "\n",
    "# flatten ==> 28*28=784\n",
    "# flatten ==> reshape 28*28 matrix to 784*1 matrix\n",
    "model = tf.keras.Sequential([\n",
    "    tf.keras.layers.Flatten( input_shape=(28,28,1) ),\n",
    "    tf.keras.layers.Dense( hiddenLayerSize , activation='relu' ),\n",
    "    tf.keras.layers.Dense( hiddenLayerSize , activation='relu' ),\n",
    "    tf.keras.layers.Dense( outputSize , activation='softmax' )\n",
    "])"
   ]
  },
  {
   "cell_type": "code",
   "execution_count": 18,
   "id": "ab792d0b",
   "metadata": {},
   "outputs": [],
   "source": [
    "model.compile(optimizer='adam', loss='sparse_categorical_crossentropy', metrics=['accuracy'])"
   ]
  },
  {
   "cell_type": "code",
   "execution_count": 19,
   "id": "2b85cb9c",
   "metadata": {},
   "outputs": [
    {
     "name": "stdout",
     "output_type": "stream",
     "text": [
      "Epoch 1/5\n",
      "540/540 - 2s - loss: 0.4119 - accuracy: 0.8811 - val_loss: 0.2118 - val_accuracy: 0.9387 - 2s/epoch - 4ms/step\n",
      "Epoch 2/5\n",
      "540/540 - 1s - loss: 0.1817 - accuracy: 0.9472 - val_loss: 0.1591 - val_accuracy: 0.9550 - 1s/epoch - 2ms/step\n",
      "Epoch 3/5\n",
      "540/540 - 1s - loss: 0.1348 - accuracy: 0.9613 - val_loss: 0.1230 - val_accuracy: 0.9643 - 1s/epoch - 2ms/step\n",
      "Epoch 4/5\n",
      "540/540 - 1s - loss: 0.1101 - accuracy: 0.9674 - val_loss: 0.1117 - val_accuracy: 0.9672 - 1s/epoch - 2ms/step\n",
      "Epoch 5/5\n",
      "540/540 - 1s - loss: 0.0946 - accuracy: 0.9719 - val_loss: 0.0986 - val_accuracy: 0.9730 - 1s/epoch - 2ms/step\n"
     ]
    },
    {
     "data": {
      "text/plain": [
       "<keras.callbacks.History at 0x1c6d3fdbc10>"
      ]
     },
     "execution_count": 19,
     "metadata": {},
     "output_type": "execute_result"
    }
   ],
   "source": [
    "epochSize = 5\n",
    "model.fit(trainData , epochs=epochSize , validation_data=(validation_inputs, validation_targets) ,verbose=2)"
   ]
  },
  {
   "cell_type": "code",
   "execution_count": 20,
   "id": "39bfa6b6",
   "metadata": {},
   "outputs": [
    {
     "name": "stdout",
     "output_type": "stream",
     "text": [
      "1/1 [==============================] - 0s 236ms/step - loss: 0.1122 - accuracy: 0.9639\n",
      "Test loss of our model is: 0.112. And our Test accuracy is: 96.390%\n"
     ]
    }
   ],
   "source": [
    "testLoss , testAccuracy = model.evaluate(testData)\n",
    "print('Test loss of our model is: {0:.3f}. And our Test accuracy is: {1:.3f}%'.format(testLoss, testAccuracy*100.))"
   ]
  }
 ],
 "metadata": {
  "kernelspec": {
   "display_name": "TF",
   "language": "python",
   "name": "tf"
  },
  "language_info": {
   "codemirror_mode": {
    "name": "ipython",
    "version": 3
   },
   "file_extension": ".py",
   "mimetype": "text/x-python",
   "name": "python",
   "nbconvert_exporter": "python",
   "pygments_lexer": "ipython3",
   "version": "3.9.17"
  }
 },
 "nbformat": 4,
 "nbformat_minor": 5
}
